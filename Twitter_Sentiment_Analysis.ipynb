{
  "nbformat": 4,
  "nbformat_minor": 0,
  "metadata": {
    "colab": {
      "name": "Twitter_Sentiment_Analysis",
      "provenance": []
    },
    "kernelspec": {
      "name": "python3",
      "display_name": "Python 3"
    }
  },
  "cells": [
    {
      "cell_type": "code",
      "metadata": {
        "id": "AhzdBnrCxifZ"
      },
      "source": [
        "#Importing the necessary libraries\n",
        "import tweepy\n",
        "from textblob import TextBlob\n",
        "from wordcloud import WordCloud\n",
        "import pandas as pd\n",
        "import numpy as np\n",
        "import re #Regular expression (RegEx)\n",
        "import matplotlib.pyplot as plt\n",
        "from nltk.tokenize import TweetTokenizer\n",
        "plt.style.use(\"fivethirtyeight\")"
      ],
      "execution_count": null,
      "outputs": []
    },
    {
      "cell_type": "code",
      "metadata": {
        "id": "Ma14vnTJygla"
      },
      "source": [
        "consumer_key = 'It6qdrfzzKYBT0F3B1IQYnpEG'\n",
        "consumer_secret = '2UYJ8ys7zQb6z2251xVpMHeloqK09JnnuXyki7LFZ0bTCnIoiy'\n",
        "access_token = '1364258204473982978-IrTfDSw2ZvA8IkZqaO30BT0xgBMGv2'\n",
        "access_token_secret = 'cPSxtNQBI1BetT71fbMP2B3Ok41UXS8QI1bmPeYYKUyqp'"
      ],
      "execution_count": null,
      "outputs": []
    },
    {
      "cell_type": "code",
      "metadata": {
        "id": "XRY3AjzTyp9w"
      },
      "source": [
        "auth = tweepy.OAuthHandler(consumer_key,consumer_secret)\n",
        "auth.set_access_token(access_token,access_token_secret)\n",
        "api = tweepy.API(auth,wait_on_rate_limit=True)"
      ],
      "execution_count": null,
      "outputs": []
    },
    {
      "cell_type": "code",
      "metadata": {
        "id": "ejFfuCsLGQGC"
      },
      "source": [
        "key_word = 'bitcoin'\n",
        "limit = 10000 # No. of tweets to be downloaded"
      ],
      "execution_count": null,
      "outputs": []
    },
    {
      "cell_type": "code",
      "metadata": {
        "id": "hDJjgdeXV7vo"
      },
      "source": [
        "def TextClean(tweet):\n",
        "  tweet = tweet.lower()\n",
        "  tweet = re.sub(r'@[a-z0-9_]\\S+' , '', tweet)\n",
        "  tweet = re.sub(r'#[a-z0-9_]\\S+', '',tweet)\n",
        "  tweet = re.sub(r'&[a-z0-9_]\\S+','',tweet)\n",
        "  tweet = re.sub(r'0[?!.+,;$%&\"]+','',tweet)\n",
        "  tweet = re.sub(r'rt[\\s]+', '', tweet)\n",
        "  tweet = re.sub(r'\\d+', '', tweet)\n",
        "  tweet = re.sub(r'\\$', '', tweet)\n",
        "  tweet = re.sub(r'rt+', '', tweet)\n",
        "  tweet = re.sub(r'https?:?\\/\\/\\S+', '', tweet)\n",
        "  return tweet"
      ],
      "execution_count": null,
      "outputs": []
    },
    {
      "cell_type": "code",
      "metadata": {
        "id": "ujNctYILHjqA"
      },
      "source": [
        "def tweet_search(key_word):\n",
        "  i=0\n",
        "  tweets_df=pd.DataFrame(columns=['Datetime','Tweet','Username','Retweets','Followers'])\n",
        "  for tweet in tweepy.Cursor(api.search,q=key_word,count=100,lang='en', tweet_mode='extended').items() :\n",
        "    print(\"Tweets Downloaded :\",i,'/',limit,end = '\\r')\n",
        "    if tweet.user.followers_count > 500 :\n",
        "      tweets_df = tweets_df.append({'Datetime': tweet.created_at,\n",
        "                                    'Tweet': tweet.full_text,\n",
        "                                    'Username': tweet.user.screen_name,\n",
        "                                    'Retweets': tweet.retweet_count,\n",
        "                                    'Followers': tweet.user.followers_count},\n",
        "                                   ignore_index=True)\n",
        "      i+=1\n",
        "      if i>= limit:\n",
        "        break\n",
        "      else :\n",
        "        pass\n",
        "  tweets_df['CleanTweet'] = tweets_df['Tweet'].apply(TextClean)\n",
        "  #tweets_df.to_csv(key_word + '.csv', encoding = 'utf-8')\n",
        "  tweets_df.drop_duplicates(subset=['Tweet'], inplace = True)\n",
        "  tweets_df['CleanTweet'] = tweets_df['Tweet'].apply(TextClean)\n",
        "  tweet_tokenizer = TweetTokenizer() # Object Construction\n",
        "  tweets_df['CleanTweet'] = tweets_df['CleanTweet'].apply(tweet_tokenizer.tokenize) \n",
        "  tweets_df['CleanTweet'] = [', '.join(map(str, token)) for token in tweets_df['CleanTweet']]\n",
        "  return tweets_df\n"
      ],
      "execution_count": null,
      "outputs": []
    },
    {
      "cell_type": "code",
      "metadata": {
        "colab": {
          "base_uri": "https://localhost:8080/"
        },
        "id": "n3lghShgH7Xs",
        "outputId": "90b8d6da-4249-489c-f98b-6117c52aca4e"
      },
      "source": [
        "tweets_df =tweet_search(key_word)"
      ],
      "execution_count": null,
      "outputs": [
        {
          "output_type": "stream",
          "text": [
            ""
          ],
          "name": "stdout"
        }
      ]
    },
    {
      "cell_type": "code",
      "metadata": {
        "colab": {
          "base_uri": "https://localhost:8080/",
          "height": 424
        },
        "id": "9bqgNxoyV5MH",
        "outputId": "fe4449c4-32d3-4c14-904e-52ae4ef8e9c3"
      },
      "source": [
        "tweets_df"
      ],
      "execution_count": null,
      "outputs": [
        {
          "output_type": "execute_result",
          "data": {
            "text/html": [
              "<div>\n",
              "<style scoped>\n",
              "    .dataframe tbody tr th:only-of-type {\n",
              "        vertical-align: middle;\n",
              "    }\n",
              "\n",
              "    .dataframe tbody tr th {\n",
              "        vertical-align: top;\n",
              "    }\n",
              "\n",
              "    .dataframe thead th {\n",
              "        text-align: right;\n",
              "    }\n",
              "</style>\n",
              "<table border=\"1\" class=\"dataframe\">\n",
              "  <thead>\n",
              "    <tr style=\"text-align: right;\">\n",
              "      <th></th>\n",
              "      <th>Datetime</th>\n",
              "      <th>Tweet</th>\n",
              "      <th>Username</th>\n",
              "      <th>Retweets</th>\n",
              "      <th>Followers</th>\n",
              "      <th>CleanTweet</th>\n",
              "    </tr>\n",
              "  </thead>\n",
              "  <tbody>\n",
              "    <tr>\n",
              "      <th>0</th>\n",
              "      <td>2021-03-05 06:58:19</td>\n",
              "      <td>RT @jimmysong: Converting fiat money to #Bitco...</td>\n",
              "      <td>semmoneglynn</td>\n",
              "      <td>67</td>\n",
              "      <td>2233</td>\n",
              "      <td>conveing, fiat, money, to, is, a, step, out, o...</td>\n",
              "    </tr>\n",
              "    <tr>\n",
              "      <th>1</th>\n",
              "      <td>2021-03-05 06:58:16</td>\n",
              "      <td>RT @ecoinometrics: #Bitcoin after the Halving\\...</td>\n",
              "      <td>tomhebron</td>\n",
              "      <td>47</td>\n",
              "      <td>844</td>\n",
              "      <td>after, the, halving, mar, ., ,, days, after, t...</td>\n",
              "    </tr>\n",
              "    <tr>\n",
              "      <th>2</th>\n",
              "      <td>2021-03-05 06:58:10</td>\n",
              "      <td>RT @PeterSchiff: The Grayscale Bitcoin Trust (...</td>\n",
              "      <td>TrueCrypto27</td>\n",
              "      <td>133</td>\n",
              "      <td>13570</td>\n",
              "      <td>the, grayscale, bitcoin, trust, (, gbtc, ), cl...</td>\n",
              "    </tr>\n",
              "    <tr>\n",
              "      <th>3</th>\n",
              "      <td>2021-03-05 06:58:08</td>\n",
              "      <td>@Ultra1 @N8twon Financed would be more profita...</td>\n",
              "      <td>JasonEbacher</td>\n",
              "      <td>0</td>\n",
              "      <td>548</td>\n",
              "      <td>financed, would, be, more, profitable, btc, wi...</td>\n",
              "    </tr>\n",
              "    <tr>\n",
              "      <th>4</th>\n",
              "      <td>2021-03-05 06:58:07</td>\n",
              "      <td>#Bitcoin 📉 \\n\\n▓▓▓▓▓▓▓▓▓▓▓▓▓▓░ 95%\\n\\n price: ...</td>\n",
              "      <td>Alert_Shark</td>\n",
              "      <td>0</td>\n",
              "      <td>573</td>\n",
              "      <td>📉, ▓, ▓, ▓, ░, %, price, :, .</td>\n",
              "    </tr>\n",
              "    <tr>\n",
              "      <th>...</th>\n",
              "      <td>...</td>\n",
              "      <td>...</td>\n",
              "      <td>...</td>\n",
              "      <td>...</td>\n",
              "      <td>...</td>\n",
              "      <td>...</td>\n",
              "    </tr>\n",
              "    <tr>\n",
              "      <th>9992</th>\n",
              "      <td>2021-03-04 23:45:11</td>\n",
              "      <td>Will #bitcoin REACH $55000 to balance price, o...</td>\n",
              "      <td>bitcoinagile</td>\n",
              "      <td>1</td>\n",
              "      <td>55880</td>\n",
              "      <td>will, reach, to, balance, price, ,, or, am, i,...</td>\n",
              "    </tr>\n",
              "    <tr>\n",
              "      <th>9993</th>\n",
              "      <td>2021-03-04 23:45:08</td>\n",
              "      <td>#crypto #affiliate #affiliatemarketing #affili...</td>\n",
              "      <td>bmurphypointman</td>\n",
              "      <td>0</td>\n",
              "      <td>69749</td>\n",
              "      <td>free, shipping, on, purchases, over, at</td>\n",
              "    </tr>\n",
              "    <tr>\n",
              "      <th>9994</th>\n",
              "      <td>2021-03-04 23:45:07</td>\n",
              "      <td>#linkedin #twitter #facebook #instagram #gifts...</td>\n",
              "      <td>bmurphypointman</td>\n",
              "      <td>0</td>\n",
              "      <td>69749</td>\n",
              "      <td>on, purchases, over, at</td>\n",
              "    </tr>\n",
              "    <tr>\n",
              "      <th>9996</th>\n",
              "      <td>2021-03-04 23:45:06</td>\n",
              "      <td>@Eric_BIGfund Genuine question. How much bitco...</td>\n",
              "      <td>DatCryptoBoi</td>\n",
              "      <td>0</td>\n",
              "      <td>2969</td>\n",
              "      <td>genuine, question, ., how, much, bitcoin, is, ...</td>\n",
              "    </tr>\n",
              "    <tr>\n",
              "      <th>9998</th>\n",
              "      <td>2021-03-04 23:45:04</td>\n",
              "      <td>RT @iElielSepulchro: SBA PPP Pronouncement Pro...</td>\n",
              "      <td>CarlosMoralesSv</td>\n",
              "      <td>2</td>\n",
              "      <td>638</td>\n",
              "      <td>sba, ppp, pronouncement, provides, higher, loa...</td>\n",
              "    </tr>\n",
              "  </tbody>\n",
              "</table>\n",
              "<p>7258 rows × 6 columns</p>\n",
              "</div>"
            ],
            "text/plain": [
              "                Datetime  ...                                         CleanTweet\n",
              "0    2021-03-05 06:58:19  ...  conveing, fiat, money, to, is, a, step, out, o...\n",
              "1    2021-03-05 06:58:16  ...  after, the, halving, mar, ., ,, days, after, t...\n",
              "2    2021-03-05 06:58:10  ...  the, grayscale, bitcoin, trust, (, gbtc, ), cl...\n",
              "3    2021-03-05 06:58:08  ...  financed, would, be, more, profitable, btc, wi...\n",
              "4    2021-03-05 06:58:07  ...                      📉, ▓, ▓, ▓, ░, %, price, :, .\n",
              "...                  ...  ...                                                ...\n",
              "9992 2021-03-04 23:45:11  ...  will, reach, to, balance, price, ,, or, am, i,...\n",
              "9993 2021-03-04 23:45:08  ...            free, shipping, on, purchases, over, at\n",
              "9994 2021-03-04 23:45:07  ...                            on, purchases, over, at\n",
              "9996 2021-03-04 23:45:06  ...  genuine, question, ., how, much, bitcoin, is, ...\n",
              "9998 2021-03-04 23:45:04  ...  sba, ppp, pronouncement, provides, higher, loa...\n",
              "\n",
              "[7258 rows x 6 columns]"
            ]
          },
          "metadata": {
            "tags": []
          },
          "execution_count": 9
        }
      ]
    },
    {
      "cell_type": "markdown",
      "metadata": {
        "id": "IGlJB8VrTInC"
      },
      "source": [
        "# **Visualisation**"
      ]
    },
    {
      "cell_type": "code",
      "metadata": {
        "id": "v69FYD0oSl1C"
      },
      "source": [
        "all_tweets = ' '.join(tweet for tweet in tweets_df['CleanTweet'])\n",
        "all_tweets\n",
        "\n",
        "WordCloud = WordCloud(width = 800, height = 400, random_state = 21, max_font_size = 100, collocations = False).generate(all_tweets)\n"
      ],
      "execution_count": null,
      "outputs": []
    },
    {
      "cell_type": "code",
      "metadata": {
        "colab": {
          "base_uri": "https://localhost:8080/",
          "height": 341
        },
        "id": "QM9aTEmPFg9n",
        "outputId": "22f63704-2644-47da-d667-7bc7a3e2a251"
      },
      "source": [
        "plt.figure(figsize = (10, 5))\n",
        "plt.imshow(WordCloud, interpolation = 'bilinear')\n",
        "plt.axis('off')"
      ],
      "execution_count": null,
      "outputs": [
        {
          "output_type": "execute_result",
          "data": {
            "text/plain": [
              "(-0.5, 799.5, 399.5, -0.5)"
            ]
          },
          "metadata": {
            "tags": []
          },
          "execution_count": 11
        },
        {
          "output_type": "display_data",
          "data": {
            "image/png": "[encoded data removed]",
            "text/plain": [
              "<Figure size 720x360 with 1 Axes>"
            ]
          },
          "metadata": {
            "tags": []
          }
        }
      ]
    },
    {
      "cell_type": "code",
      "metadata": {
        "colab": {
          "base_uri": "https://localhost:8080/",
          "height": 419
        },
        "id": "FM4pIwpOFmoD",
        "outputId": "facf8aaf-51e5-4f41-bba1-8e31ca090839"
      },
      "source": [
        "plt.style.use('ggplot')\n",
        "word_frequency = pd.DataFrame.from_dict(data = WordCloud.words_, orient = 'index')\n",
        "word_frequency = word_frequency.head(20)\n",
        "plt.figure(figsize = (10, 5))\n",
        "plt.bar(word_frequency.index, word_frequency[0]) # x , y\n",
        "plt.xticks(rotation = 90)"
      ],
      "execution_count": null,
      "outputs": [
        {
          "output_type": "execute_result",
          "data": {
            "text/plain": [
              "([0, 1, 2, 3, 4, 5, 6, 7, 8, 9, 10, 11, 12, 13, 14, 15, 16, 17, 18, 19],\n",
              " <a list of 20 Text major ticklabel objects>)"
            ]
          },
          "metadata": {
            "tags": []
          },
          "execution_count": 12
        },
        {
          "output_type": "display_data",
          "data": {
            "image/png": "[encoded data removed]",
            "text/plain": [
              "<Figure size 720x360 with 1 Axes>"
            ]
          },
          "metadata": {
            "tags": []
          }
        }
      ]
    },
    {
      "cell_type": "markdown",
      "metadata": {
        "id": "c9lmxeE-OLrv"
      },
      "source": [
        "**Applying NLTK**"
      ]
    },
    {
      "cell_type": "code",
      "metadata": {
        "colab": {
          "base_uri": "https://localhost:8080/"
        },
        "id": "AxuhoNT_NrzD",
        "outputId": "36d7c6ab-b230-4a25-f360-60bb2cbee67a"
      },
      "source": [
        "import nltk # Natural language processing\n",
        "from nltk.tokenize import word_tokenize\n",
        "from nltk.stem import WordNetLemmatizer\n",
        "from nltk.stem import PorterStemmer\n",
        "nltk.download('punkt')\n",
        "nltk.download('wordnet')"
      ],
      "execution_count": null,
      "outputs": [
        {
          "output_type": "stream",
          "text": [
            "[nltk_data] Downloading package punkt to /root/nltk_data...\n",
            "[nltk_data]   Unzipping tokenizers/punkt.zip.\n",
            "[nltk_data] Downloading package wordnet to /root/nltk_data...\n",
            "[nltk_data]   Unzipping corpora/wordnet.zip.\n"
          ],
          "name": "stdout"
        },
        {
          "output_type": "execute_result",
          "data": {
            "text/plain": [
              "True"
            ]
          },
          "metadata": {
            "tags": []
          },
          "execution_count": 13
        }
      ]
    },
    {
      "cell_type": "code",
      "metadata": {
        "colab": {
          "base_uri": "https://localhost:8080/"
        },
        "id": "jYqdubp2OS4k",
        "outputId": "26f0e668-1d9a-41cd-c269-dd0cbf28a772"
      },
      "source": [
        "tokens = word_tokenize(all_tweets)\n",
        "\n",
        "\n",
        "#Lemmatization\n",
        "lemmatizer = WordNetLemmatizer()\n",
        "lemma = [lemmatizer.lemmatize(tweet, pos = 'v') for tweet in tokens]\n",
        "#print(tokens[:20])\n",
        "#print(lemma[:20])\n",
        "\n",
        "#Stemming\n",
        "porter_stemmer = PorterStemmer()\n",
        "stemm = [porter_stemmer.stem(tweet) for tweet in tokens]\n",
        "#print(tokens[:20])\n",
        "#print(stemm[:20])\n",
        "\n",
        "#Print lenghts of lists to check if we didn't lose any tokens in the process\n",
        "print('Number of word in tweets:', len(all_tweets))\n",
        "print('Number of tokens:', len(tokens))\n",
        "print('Number of lemmas:', len(lemma))\n",
        "print('Number of stemms:', len(stemm))"
      ],
      "execution_count": null,
      "outputs": [
        {
          "output_type": "stream",
          "text": [
            "Number of word in tweets: 849544\n",
            "Number of tokens: 286210\n",
            "Number of lemmas: 286210\n",
            "Number of stemms: 286210\n"
          ],
          "name": "stdout"
        }
      ]
    },
    {
      "cell_type": "code",
      "metadata": {
        "id": "8uFJ4vLTOaBi"
      },
      "source": [
        "df = pd.DataFrame(columns = ['Tokens', 'Stemm', 'Lemma'])\n",
        "df['Tokens'] = tokens[:50]\n",
        "df['Stemm'] = stemm[:50]\n",
        "df['Lemma'] = lemma[:50]\n"
      ],
      "execution_count": null,
      "outputs": []
    },
    {
      "cell_type": "code",
      "metadata": {
        "colab": {
          "base_uri": "https://localhost:8080/",
          "height": 1000
        },
        "id": "44c5wl_-LzGW",
        "outputId": "341d5f28-c3b4-4f38-8b9c-d254141cf335"
      },
      "source": [
        "df"
      ],
      "execution_count": null,
      "outputs": [
        {
          "output_type": "execute_result",
          "data": {
            "text/html": [
              "<div>\n",
              "<style scoped>\n",
              "    .dataframe tbody tr th:only-of-type {\n",
              "        vertical-align: middle;\n",
              "    }\n",
              "\n",
              "    .dataframe tbody tr th {\n",
              "        vertical-align: top;\n",
              "    }\n",
              "\n",
              "    .dataframe thead th {\n",
              "        text-align: right;\n",
              "    }\n",
              "</style>\n",
              "<table border=\"1\" class=\"dataframe\">\n",
              "  <thead>\n",
              "    <tr style=\"text-align: right;\">\n",
              "      <th></th>\n",
              "      <th>Tokens</th>\n",
              "      <th>Stemm</th>\n",
              "      <th>Lemma</th>\n",
              "    </tr>\n",
              "  </thead>\n",
              "  <tbody>\n",
              "    <tr>\n",
              "      <th>0</th>\n",
              "      <td>conveing</td>\n",
              "      <td>conv</td>\n",
              "      <td>conveing</td>\n",
              "    </tr>\n",
              "    <tr>\n",
              "      <th>1</th>\n",
              "      <td>,</td>\n",
              "      <td>,</td>\n",
              "      <td>,</td>\n",
              "    </tr>\n",
              "    <tr>\n",
              "      <th>2</th>\n",
              "      <td>fiat</td>\n",
              "      <td>fiat</td>\n",
              "      <td>fiat</td>\n",
              "    </tr>\n",
              "    <tr>\n",
              "      <th>3</th>\n",
              "      <td>,</td>\n",
              "      <td>,</td>\n",
              "      <td>,</td>\n",
              "    </tr>\n",
              "    <tr>\n",
              "      <th>4</th>\n",
              "      <td>money</td>\n",
              "      <td>money</td>\n",
              "      <td>money</td>\n",
              "    </tr>\n",
              "    <tr>\n",
              "      <th>5</th>\n",
              "      <td>,</td>\n",
              "      <td>,</td>\n",
              "      <td>,</td>\n",
              "    </tr>\n",
              "    <tr>\n",
              "      <th>6</th>\n",
              "      <td>to</td>\n",
              "      <td>to</td>\n",
              "      <td>to</td>\n",
              "    </tr>\n",
              "    <tr>\n",
              "      <th>7</th>\n",
              "      <td>,</td>\n",
              "      <td>,</td>\n",
              "      <td>,</td>\n",
              "    </tr>\n",
              "    <tr>\n",
              "      <th>8</th>\n",
              "      <td>is</td>\n",
              "      <td>is</td>\n",
              "      <td>be</td>\n",
              "    </tr>\n",
              "    <tr>\n",
              "      <th>9</th>\n",
              "      <td>,</td>\n",
              "      <td>,</td>\n",
              "      <td>,</td>\n",
              "    </tr>\n",
              "    <tr>\n",
              "      <th>10</th>\n",
              "      <td>a</td>\n",
              "      <td>a</td>\n",
              "      <td>a</td>\n",
              "    </tr>\n",
              "    <tr>\n",
              "      <th>11</th>\n",
              "      <td>,</td>\n",
              "      <td>,</td>\n",
              "      <td>,</td>\n",
              "    </tr>\n",
              "    <tr>\n",
              "      <th>12</th>\n",
              "      <td>step</td>\n",
              "      <td>step</td>\n",
              "      <td>step</td>\n",
              "    </tr>\n",
              "    <tr>\n",
              "      <th>13</th>\n",
              "      <td>,</td>\n",
              "      <td>,</td>\n",
              "      <td>,</td>\n",
              "    </tr>\n",
              "    <tr>\n",
              "      <th>14</th>\n",
              "      <td>out</td>\n",
              "      <td>out</td>\n",
              "      <td>out</td>\n",
              "    </tr>\n",
              "    <tr>\n",
              "      <th>15</th>\n",
              "      <td>,</td>\n",
              "      <td>,</td>\n",
              "      <td>,</td>\n",
              "    </tr>\n",
              "    <tr>\n",
              "      <th>16</th>\n",
              "      <td>of</td>\n",
              "      <td>of</td>\n",
              "      <td>of</td>\n",
              "    </tr>\n",
              "    <tr>\n",
              "      <th>17</th>\n",
              "      <td>,</td>\n",
              "      <td>,</td>\n",
              "      <td>,</td>\n",
              "    </tr>\n",
              "    <tr>\n",
              "      <th>18</th>\n",
              "      <td>debt</td>\n",
              "      <td>debt</td>\n",
              "      <td>debt</td>\n",
              "    </tr>\n",
              "    <tr>\n",
              "      <th>19</th>\n",
              "      <td>,</td>\n",
              "      <td>,</td>\n",
              "      <td>,</td>\n",
              "    </tr>\n",
              "    <tr>\n",
              "      <th>20</th>\n",
              "      <td>and</td>\n",
              "      <td>and</td>\n",
              "      <td>and</td>\n",
              "    </tr>\n",
              "    <tr>\n",
              "      <th>21</th>\n",
              "      <td>,</td>\n",
              "      <td>,</td>\n",
              "      <td>,</td>\n",
              "    </tr>\n",
              "    <tr>\n",
              "      <th>22</th>\n",
              "      <td>into</td>\n",
              "      <td>into</td>\n",
              "      <td>into</td>\n",
              "    </tr>\n",
              "    <tr>\n",
              "      <th>23</th>\n",
              "      <td>,</td>\n",
              "      <td>,</td>\n",
              "      <td>,</td>\n",
              "    </tr>\n",
              "    <tr>\n",
              "      <th>24</th>\n",
              "      <td>savings</td>\n",
              "      <td>save</td>\n",
              "      <td>save</td>\n",
              "    </tr>\n",
              "    <tr>\n",
              "      <th>25</th>\n",
              "      <td>,</td>\n",
              "      <td>,</td>\n",
              "      <td>,</td>\n",
              "    </tr>\n",
              "    <tr>\n",
              "      <th>26</th>\n",
              "      <td>.</td>\n",
              "      <td>.</td>\n",
              "      <td>.</td>\n",
              "    </tr>\n",
              "    <tr>\n",
              "      <th>27</th>\n",
              "      <td>after</td>\n",
              "      <td>after</td>\n",
              "      <td>after</td>\n",
              "    </tr>\n",
              "    <tr>\n",
              "      <th>28</th>\n",
              "      <td>,</td>\n",
              "      <td>,</td>\n",
              "      <td>,</td>\n",
              "    </tr>\n",
              "    <tr>\n",
              "      <th>29</th>\n",
              "      <td>the</td>\n",
              "      <td>the</td>\n",
              "      <td>the</td>\n",
              "    </tr>\n",
              "    <tr>\n",
              "      <th>30</th>\n",
              "      <td>,</td>\n",
              "      <td>,</td>\n",
              "      <td>,</td>\n",
              "    </tr>\n",
              "    <tr>\n",
              "      <th>31</th>\n",
              "      <td>halving</td>\n",
              "      <td>halv</td>\n",
              "      <td>halve</td>\n",
              "    </tr>\n",
              "    <tr>\n",
              "      <th>32</th>\n",
              "      <td>,</td>\n",
              "      <td>,</td>\n",
              "      <td>,</td>\n",
              "    </tr>\n",
              "    <tr>\n",
              "      <th>33</th>\n",
              "      <td>mar</td>\n",
              "      <td>mar</td>\n",
              "      <td>mar</td>\n",
              "    </tr>\n",
              "    <tr>\n",
              "      <th>34</th>\n",
              "      <td>,</td>\n",
              "      <td>,</td>\n",
              "      <td>,</td>\n",
              "    </tr>\n",
              "    <tr>\n",
              "      <th>35</th>\n",
              "      <td>.</td>\n",
              "      <td>.</td>\n",
              "      <td>.</td>\n",
              "    </tr>\n",
              "    <tr>\n",
              "      <th>36</th>\n",
              "      <td>,</td>\n",
              "      <td>,</td>\n",
              "      <td>,</td>\n",
              "    </tr>\n",
              "    <tr>\n",
              "      <th>37</th>\n",
              "      <td>,</td>\n",
              "      <td>,</td>\n",
              "      <td>,</td>\n",
              "    </tr>\n",
              "    <tr>\n",
              "      <th>38</th>\n",
              "      <td>,</td>\n",
              "      <td>,</td>\n",
              "      <td>,</td>\n",
              "    </tr>\n",
              "    <tr>\n",
              "      <th>39</th>\n",
              "      <td>days</td>\n",
              "      <td>day</td>\n",
              "      <td>days</td>\n",
              "    </tr>\n",
              "    <tr>\n",
              "      <th>40</th>\n",
              "      <td>,</td>\n",
              "      <td>,</td>\n",
              "      <td>,</td>\n",
              "    </tr>\n",
              "    <tr>\n",
              "      <th>41</th>\n",
              "      <td>after</td>\n",
              "      <td>after</td>\n",
              "      <td>after</td>\n",
              "    </tr>\n",
              "    <tr>\n",
              "      <th>42</th>\n",
              "      <td>,</td>\n",
              "      <td>,</td>\n",
              "      <td>,</td>\n",
              "    </tr>\n",
              "    <tr>\n",
              "      <th>43</th>\n",
              "      <td>the</td>\n",
              "      <td>the</td>\n",
              "      <td>the</td>\n",
              "    </tr>\n",
              "    <tr>\n",
              "      <th>44</th>\n",
              "      <td>,</td>\n",
              "      <td>,</td>\n",
              "      <td>,</td>\n",
              "    </tr>\n",
              "    <tr>\n",
              "      <th>45</th>\n",
              "      <td>rd</td>\n",
              "      <td>rd</td>\n",
              "      <td>rd</td>\n",
              "    </tr>\n",
              "    <tr>\n",
              "      <th>46</th>\n",
              "      <td>,</td>\n",
              "      <td>,</td>\n",
              "      <td>,</td>\n",
              "    </tr>\n",
              "    <tr>\n",
              "      <th>47</th>\n",
              "      <td>halving</td>\n",
              "      <td>halv</td>\n",
              "      <td>halve</td>\n",
              "    </tr>\n",
              "    <tr>\n",
              "      <th>48</th>\n",
              "      <td>,</td>\n",
              "      <td>,</td>\n",
              "      <td>,</td>\n",
              "    </tr>\n",
              "    <tr>\n",
              "      <th>49</th>\n",
              "      <td>.</td>\n",
              "      <td>.</td>\n",
              "      <td>.</td>\n",
              "    </tr>\n",
              "  </tbody>\n",
              "</table>\n",
              "</div>"
            ],
            "text/plain": [
              "      Tokens  Stemm     Lemma\n",
              "0   conveing   conv  conveing\n",
              "1          ,      ,         ,\n",
              "2       fiat   fiat      fiat\n",
              "3          ,      ,         ,\n",
              "4      money  money     money\n",
              "5          ,      ,         ,\n",
              "6         to     to        to\n",
              "7          ,      ,         ,\n",
              "8         is     is        be\n",
              "9          ,      ,         ,\n",
              "10         a      a         a\n",
              "11         ,      ,         ,\n",
              "12      step   step      step\n",
              "13         ,      ,         ,\n",
              "14       out    out       out\n",
              "15         ,      ,         ,\n",
              "16        of     of        of\n",
              "17         ,      ,         ,\n",
              "18      debt   debt      debt\n",
              "19         ,      ,         ,\n",
              "20       and    and       and\n",
              "21         ,      ,         ,\n",
              "22      into   into      into\n",
              "23         ,      ,         ,\n",
              "24   savings   save      save\n",
              "25         ,      ,         ,\n",
              "26         .      .         .\n",
              "27     after  after     after\n",
              "28         ,      ,         ,\n",
              "29       the    the       the\n",
              "30         ,      ,         ,\n",
              "31   halving   halv     halve\n",
              "32         ,      ,         ,\n",
              "33       mar    mar       mar\n",
              "34         ,      ,         ,\n",
              "35         .      .         .\n",
              "36         ,      ,         ,\n",
              "37         ,      ,         ,\n",
              "38         ,      ,         ,\n",
              "39      days    day      days\n",
              "40         ,      ,         ,\n",
              "41     after  after     after\n",
              "42         ,      ,         ,\n",
              "43       the    the       the\n",
              "44         ,      ,         ,\n",
              "45        rd     rd        rd\n",
              "46         ,      ,         ,\n",
              "47   halving   halv     halve\n",
              "48         ,      ,         ,\n",
              "49         .      .         ."
            ]
          },
          "metadata": {
            "tags": []
          },
          "execution_count": 16
        }
      ]
    },
    {
      "cell_type": "code",
      "metadata": {
        "colab": {
          "base_uri": "https://localhost:8080/"
        },
        "id": "_u0497QXQNnH",
        "outputId": "d5b3a616-61aa-4de0-cf6a-c0b0f26fc73d"
      },
      "source": [
        "!pip install vaderSentiment"
      ],
      "execution_count": null,
      "outputs": [
        {
          "output_type": "stream",
          "text": [
            "Collecting vaderSentiment\n",
            "\u001b[?25l  Downloading https://files.pythonhosted.org/packages/76/fc/310e16254683c1ed35eeb97386986d6c00bc29df17ce280aed64d55537e9/vaderSentiment-3.3.2-py2.py3-none-any.whl (125kB)\n",
            "\u001b[K     |████████████████████████████████| 133kB 4.3MB/s \n",
            "\u001b[?25hRequirement already satisfied: requests in /usr/local/lib/python3.7/dist-packages (from vaderSentiment) (2.23.0)\n",
            "Requirement already satisfied: idna<3,>=2.5 in /usr/local/lib/python3.7/dist-packages (from requests->vaderSentiment) (2.10)\n",
            "Requirement already satisfied: urllib3!=1.25.0,!=1.25.1,<1.26,>=1.21.1 in /usr/local/lib/python3.7/dist-packages (from requests->vaderSentiment) (1.24.3)\n",
            "Requirement already satisfied: certifi>=2017.4.17 in /usr/local/lib/python3.7/dist-packages (from requests->vaderSentiment) (2020.12.5)\n",
            "Requirement already satisfied: chardet<4,>=3.0.2 in /usr/local/lib/python3.7/dist-packages (from requests->vaderSentiment) (3.0.4)\n",
            "Installing collected packages: vaderSentiment\n",
            "Successfully installed vaderSentiment-3.3.2\n"
          ],
          "name": "stdout"
        }
      ]
    },
    {
      "cell_type": "code",
      "metadata": {
        "id": "ug4i0ntFP2SW"
      },
      "source": [
        "from vaderSentiment.vaderSentiment import SentimentIntensityAnalyzer\n",
        "def vader_compound_score(tweet):\n",
        "    vader = SentimentIntensityAnalyzer()\n",
        "    if vader.polarity_scores(tweet)['compound'] >= 0.05:\n",
        "        return 'Positive'\n",
        "    elif vader.polarity_scores(tweet)['compound'] <= -0.05:\n",
        "        return 'Negative'\n",
        "    else:\n",
        "        return 'Neutral'\n"
      ],
      "execution_count": null,
      "outputs": []
    },
    {
      "cell_type": "code",
      "metadata": {
        "colab": {
          "base_uri": "https://localhost:8080/"
        },
        "id": "GwlVYcMUL-U1",
        "outputId": "873099e7-5169-4e1f-d0ae-d15cf362cb1c"
      },
      "source": [
        "!pip install TextBlob"
      ],
      "execution_count": null,
      "outputs": [
        {
          "output_type": "stream",
          "text": [
            "Requirement already satisfied: TextBlob in /usr/local/lib/python3.7/dist-packages (0.15.3)\n",
            "Requirement already satisfied: nltk>=3.1 in /usr/local/lib/python3.7/dist-packages (from TextBlob) (3.2.5)\n",
            "Requirement already satisfied: six in /usr/local/lib/python3.7/dist-packages (from nltk>=3.1->TextBlob) (1.15.0)\n"
          ],
          "name": "stdout"
        }
      ]
    },
    {
      "cell_type": "code",
      "metadata": {
        "id": "thET98D1Q9bb"
      },
      "source": [
        "def textblob_sentiment(tweet):\n",
        "    analysis = TextBlob(tweet)\n",
        "    if analysis.sentiment.polarity > 0:\n",
        "        return 'Positive'\n",
        "    elif analysis.sentiment.polarity == 0:\n",
        "        return 'Neutral'\n",
        "    else:\n",
        "        return 'Negative'"
      ],
      "execution_count": null,
      "outputs": []
    },
    {
      "cell_type": "code",
      "metadata": {
        "id": "sFCbBLfyMSqI"
      },
      "source": [
        "tweets_df['Vader_sent'] = tweets_df['CleanTweet'].apply(vader_compound_score)\n",
        "tweets_df['TextBlob_sent'] = tweets_df['CleanTweet'].apply(textblob_sentiment)\n",
        "tweets_df['Different_sent'] = np.where(tweets_df['Vader_sent'] != tweets_df['TextBlob_sent'], 1, 0)"
      ],
      "execution_count": null,
      "outputs": []
    },
    {
      "cell_type": "code",
      "metadata": {
        "colab": {
          "base_uri": "https://localhost:8080/"
        },
        "id": "rnkIdDoEMWPh",
        "outputId": "f1524893-f87e-46ba-971c-af4d950f0254"
      },
      "source": [
        "vader_pie = [len(tweets_df[tweets_df['Vader_sent'] == 'Positive']),\n",
        "             len(tweets_df[tweets_df['Vader_sent'] == 'Negative']),\n",
        "             len(tweets_df[tweets_df['Vader_sent'] == 'Neutral'])]\n",
        "blob_pie = [len(tweets_df[tweets_df['TextBlob_sent'] == 'Positive']),\n",
        "            len(tweets_df[tweets_df['TextBlob_sent'] == 'Negative']),\n",
        "            len(tweets_df[tweets_df['TextBlob_sent'] == 'Neutral'])]\n",
        "labels = ['Positive', 'Negative', 'Neutral']\n",
        "colors = ['aquamarine', 'tomato', 'skyblue']\n",
        "\n",
        "print(len(tweets_df[tweets_df['Different_sent'] == 1]), 'times two approaches show different results')"
      ],
      "execution_count": null,
      "outputs": [
        {
          "output_type": "stream",
          "text": [
            "2716 times two approaches show different results\n"
          ],
          "name": "stdout"
        }
      ]
    },
    {
      "cell_type": "code",
      "metadata": {
        "colab": {
          "base_uri": "https://localhost:8080/",
          "height": 597
        },
        "id": "cF8-Xs8YNbc4",
        "outputId": "51a1f8d6-4abc-46f6-b47b-a9aa9796a17c"
      },
      "source": [
        "tweets_df"
      ],
      "execution_count": null,
      "outputs": [
        {
          "output_type": "execute_result",
          "data": {
            "text/html": [
              "<div>\n",
              "<style scoped>\n",
              "    .dataframe tbody tr th:only-of-type {\n",
              "        vertical-align: middle;\n",
              "    }\n",
              "\n",
              "    .dataframe tbody tr th {\n",
              "        vertical-align: top;\n",
              "    }\n",
              "\n",
              "    .dataframe thead th {\n",
              "        text-align: right;\n",
              "    }\n",
              "</style>\n",
              "<table border=\"1\" class=\"dataframe\">\n",
              "  <thead>\n",
              "    <tr style=\"text-align: right;\">\n",
              "      <th></th>\n",
              "      <th>Datetime</th>\n",
              "      <th>Tweet</th>\n",
              "      <th>Username</th>\n",
              "      <th>Retweets</th>\n",
              "      <th>Followers</th>\n",
              "      <th>CleanTweet</th>\n",
              "      <th>Vader_sent</th>\n",
              "      <th>TextBlob_sent</th>\n",
              "      <th>Different_sent</th>\n",
              "    </tr>\n",
              "  </thead>\n",
              "  <tbody>\n",
              "    <tr>\n",
              "      <th>0</th>\n",
              "      <td>2021-03-05 06:58:19</td>\n",
              "      <td>RT @jimmysong: Converting fiat money to #Bitco...</td>\n",
              "      <td>semmoneglynn</td>\n",
              "      <td>67</td>\n",
              "      <td>2233</td>\n",
              "      <td>conveing, fiat, money, to, is, a, step, out, o...</td>\n",
              "      <td>Negative</td>\n",
              "      <td>Neutral</td>\n",
              "      <td>1</td>\n",
              "    </tr>\n",
              "    <tr>\n",
              "      <th>1</th>\n",
              "      <td>2021-03-05 06:58:16</td>\n",
              "      <td>RT @ecoinometrics: #Bitcoin after the Halving\\...</td>\n",
              "      <td>tomhebron</td>\n",
              "      <td>47</td>\n",
              "      <td>844</td>\n",
              "      <td>after, the, halving, mar, ., ,, days, after, t...</td>\n",
              "      <td>Neutral</td>\n",
              "      <td>Negative</td>\n",
              "      <td>1</td>\n",
              "    </tr>\n",
              "    <tr>\n",
              "      <th>2</th>\n",
              "      <td>2021-03-05 06:58:10</td>\n",
              "      <td>RT @PeterSchiff: The Grayscale Bitcoin Trust (...</td>\n",
              "      <td>TrueCrypto27</td>\n",
              "      <td>133</td>\n",
              "      <td>13570</td>\n",
              "      <td>the, grayscale, bitcoin, trust, (, gbtc, ), cl...</td>\n",
              "      <td>Positive</td>\n",
              "      <td>Negative</td>\n",
              "      <td>1</td>\n",
              "    </tr>\n",
              "    <tr>\n",
              "      <th>3</th>\n",
              "      <td>2021-03-05 06:58:08</td>\n",
              "      <td>@Ultra1 @N8twon Financed would be more profita...</td>\n",
              "      <td>JasonEbacher</td>\n",
              "      <td>0</td>\n",
              "      <td>548</td>\n",
              "      <td>financed, would, be, more, profitable, btc, wi...</td>\n",
              "      <td>Positive</td>\n",
              "      <td>Positive</td>\n",
              "      <td>0</td>\n",
              "    </tr>\n",
              "    <tr>\n",
              "      <th>4</th>\n",
              "      <td>2021-03-05 06:58:07</td>\n",
              "      <td>#Bitcoin 📉 \\n\\n▓▓▓▓▓▓▓▓▓▓▓▓▓▓░ 95%\\n\\n price: ...</td>\n",
              "      <td>Alert_Shark</td>\n",
              "      <td>0</td>\n",
              "      <td>573</td>\n",
              "      <td>📉, ▓, ▓, ▓, ░, %, price, :, .</td>\n",
              "      <td>Neutral</td>\n",
              "      <td>Neutral</td>\n",
              "      <td>0</td>\n",
              "    </tr>\n",
              "    <tr>\n",
              "      <th>...</th>\n",
              "      <td>...</td>\n",
              "      <td>...</td>\n",
              "      <td>...</td>\n",
              "      <td>...</td>\n",
              "      <td>...</td>\n",
              "      <td>...</td>\n",
              "      <td>...</td>\n",
              "      <td>...</td>\n",
              "      <td>...</td>\n",
              "    </tr>\n",
              "    <tr>\n",
              "      <th>9992</th>\n",
              "      <td>2021-03-04 23:45:11</td>\n",
              "      <td>Will #bitcoin REACH $55000 to balance price, o...</td>\n",
              "      <td>bitcoinagile</td>\n",
              "      <td>1</td>\n",
              "      <td>55880</td>\n",
              "      <td>will, reach, to, balance, price, ,, or, am, i,...</td>\n",
              "      <td>Neutral</td>\n",
              "      <td>Positive</td>\n",
              "      <td>1</td>\n",
              "    </tr>\n",
              "    <tr>\n",
              "      <th>9993</th>\n",
              "      <td>2021-03-04 23:45:08</td>\n",
              "      <td>#crypto #affiliate #affiliatemarketing #affili...</td>\n",
              "      <td>bmurphypointman</td>\n",
              "      <td>0</td>\n",
              "      <td>69749</td>\n",
              "      <td>free, shipping, on, purchases, over, at</td>\n",
              "      <td>Positive</td>\n",
              "      <td>Positive</td>\n",
              "      <td>0</td>\n",
              "    </tr>\n",
              "    <tr>\n",
              "      <th>9994</th>\n",
              "      <td>2021-03-04 23:45:07</td>\n",
              "      <td>#linkedin #twitter #facebook #instagram #gifts...</td>\n",
              "      <td>bmurphypointman</td>\n",
              "      <td>0</td>\n",
              "      <td>69749</td>\n",
              "      <td>on, purchases, over, at</td>\n",
              "      <td>Neutral</td>\n",
              "      <td>Neutral</td>\n",
              "      <td>0</td>\n",
              "    </tr>\n",
              "    <tr>\n",
              "      <th>9996</th>\n",
              "      <td>2021-03-04 23:45:06</td>\n",
              "      <td>@Eric_BIGfund Genuine question. How much bitco...</td>\n",
              "      <td>DatCryptoBoi</td>\n",
              "      <td>0</td>\n",
              "      <td>2969</td>\n",
              "      <td>genuine, question, ., how, much, bitcoin, is, ...</td>\n",
              "      <td>Positive</td>\n",
              "      <td>Positive</td>\n",
              "      <td>0</td>\n",
              "    </tr>\n",
              "    <tr>\n",
              "      <th>9998</th>\n",
              "      <td>2021-03-04 23:45:04</td>\n",
              "      <td>RT @iElielSepulchro: SBA PPP Pronouncement Pro...</td>\n",
              "      <td>CarlosMoralesSv</td>\n",
              "      <td>2</td>\n",
              "      <td>638</td>\n",
              "      <td>sba, ppp, pronouncement, provides, higher, loa...</td>\n",
              "      <td>Neutral</td>\n",
              "      <td>Positive</td>\n",
              "      <td>1</td>\n",
              "    </tr>\n",
              "  </tbody>\n",
              "</table>\n",
              "<p>7258 rows × 9 columns</p>\n",
              "</div>"
            ],
            "text/plain": [
              "                Datetime  ... Different_sent\n",
              "0    2021-03-05 06:58:19  ...              1\n",
              "1    2021-03-05 06:58:16  ...              1\n",
              "2    2021-03-05 06:58:10  ...              1\n",
              "3    2021-03-05 06:58:08  ...              0\n",
              "4    2021-03-05 06:58:07  ...              0\n",
              "...                  ...  ...            ...\n",
              "9992 2021-03-04 23:45:11  ...              1\n",
              "9993 2021-03-04 23:45:08  ...              0\n",
              "9994 2021-03-04 23:45:07  ...              0\n",
              "9996 2021-03-04 23:45:06  ...              0\n",
              "9998 2021-03-04 23:45:04  ...              1\n",
              "\n",
              "[7258 rows x 9 columns]"
            ]
          },
          "metadata": {
            "tags": []
          },
          "execution_count": 24
        }
      ]
    },
    {
      "cell_type": "code",
      "metadata": {
        "colab": {
          "base_uri": "https://localhost:8080/",
          "height": 351
        },
        "id": "EjHc5eG5M5IF",
        "outputId": "eb4885bb-769d-46b3-cca2-964a7d72e70c"
      },
      "source": [
        "plt.style.use('ggplot')\n",
        "plt.figure(figsize = (10, 5))\n",
        "plt.subplot(1, 2, 1)\n",
        "plt.pie(vader_pie, labels = labels, colors = colors, autopct = '%1.1f%%')\n",
        "plt.title('Vader')"
      ],
      "execution_count": null,
      "outputs": [
        {
          "output_type": "execute_result",
          "data": {
            "text/plain": [
              "Text(0.5, 1.0, 'Vader')"
            ]
          },
          "metadata": {
            "tags": []
          },
          "execution_count": 25
        },
        {
          "output_type": "display_data",
          "data": {
            "image/png": "[encoded data removed]",
            "text/plain": [
              "<Figure size 720x360 with 1 Axes>"
            ]
          },
          "metadata": {
            "tags": []
          }
        }
      ]
    },
    {
      "cell_type": "code",
      "metadata": {
        "colab": {
          "base_uri": "https://localhost:8080/",
          "height": 237
        },
        "id": "07JgNkBtM-nm",
        "outputId": "b45483bf-48b0-41ef-b692-9da71b70d7c1"
      },
      "source": [
        "plt.subplot(1, 2, 2)\n",
        "\n",
        "plt.pie(blob_pie, labels = labels, colors = colors, autopct = '%1.1f%%')\n",
        "plt.title('TextBlob')"
      ],
      "execution_count": null,
      "outputs": [
        {
          "output_type": "execute_result",
          "data": {
            "text/plain": [
              "Text(0.5, 1.0, 'TextBlob')"
            ]
          },
          "metadata": {
            "tags": []
          },
          "execution_count": 31
        },
        {
          "output_type": "display_data",
          "data": {
            "image/png": "[encoded data removed]",
            "text/plain": [
              "<Figure size 432x288 with 1 Axes>"
            ]
          },
          "metadata": {
            "tags": []
          }
        }
      ]
    },
    {
      "cell_type": "code",
      "metadata": {
        "id": "s3CJ2J2aNWgw"
      },
      "source": [
        "# Future Works (for end sem)\n",
        "# Machine learning appraoch ( Classification : logisticregression,bag of words NLP , naive bias )\n",
        "# end - to end model"
      ],
      "execution_count": null,
      "outputs": []
    },
    {
      "cell_type": "code",
      "metadata": {
        "colab": {
          "base_uri": "https://localhost:8080/"
        },
        "id": "B313Rm7IR9Zh",
        "outputId": "c112158f-bbe2-4541-bdde-f414f32b3afa"
      },
      "source": [
        "\n",
        "import nltk\n",
        "import re\n",
        "import pandas as pd\n",
        "\n",
        "nltk.download('twitter_samples')\n",
        "nltk.download('wordnet')\n",
        "nltk.download('averaged_perceptron_tagger')\n"
      ],
      "execution_count": null,
      "outputs": [
        {
          "output_type": "stream",
          "text": [
            "[nltk_data] Downloading package twitter_samples to /root/nltk_data...\n",
            "[nltk_data]   Unzipping corpora/twitter_samples.zip.\n",
            "[nltk_data] Downloading package wordnet to /root/nltk_data...\n",
            "[nltk_data]   Package wordnet is already up-to-date!\n",
            "[nltk_data] Downloading package averaged_perceptron_tagger to\n",
            "[nltk_data]     /root/nltk_data...\n",
            "[nltk_data]   Unzipping taggers/averaged_perceptron_tagger.zip.\n"
          ],
          "name": "stdout"
        },
        {
          "output_type": "execute_result",
          "data": {
            "text/plain": [
              "True"
            ]
          },
          "metadata": {
            "tags": []
          },
          "execution_count": 48
        }
      ]
    },
    {
      "cell_type": "code",
      "metadata": {
        "colab": {
          "base_uri": "https://localhost:8080/"
        },
        "id": "2o4-S3QvSChZ",
        "outputId": "ff540054-5017-4541-e07e-ed367f04d6d9"
      },
      "source": [
        "\n",
        "from nltk.corpus import twitter_samples\n",
        "positive_tokens = twitter_samples.tokenized('positive_tweets.json')\n",
        "negative_tokens = twitter_samples.tokenized('negative_tweets.json')\n",
        "\n",
        "from nltk.tag import pos_tag\n",
        "position_tag = pos_tag(positive_tokens[2])\n",
        "position_tag\n"
      ],
      "execution_count": null,
      "outputs": [
        {
          "output_type": "execute_result",
          "data": {
            "text/plain": [
              "[('@DespiteOfficial', 'JJ'),\n",
              " ('we', 'PRP'),\n",
              " ('had', 'VBD'),\n",
              " ('a', 'DT'),\n",
              " ('listen', 'VBN'),\n",
              " ('last', 'JJ'),\n",
              " ('night', 'NN'),\n",
              " (':)', 'NN'),\n",
              " ('As', 'IN'),\n",
              " ('You', 'PRP'),\n",
              " ('Bleed', 'VBP'),\n",
              " ('is', 'VBZ'),\n",
              " ('an', 'DT'),\n",
              " ('amazing', 'JJ'),\n",
              " ('track', 'NN'),\n",
              " ('.', '.'),\n",
              " ('When', 'WRB'),\n",
              " ('are', 'VBP'),\n",
              " ('you', 'PRP'),\n",
              " ('in', 'IN'),\n",
              " ('Scotland', 'NNP'),\n",
              " ('?', '.'),\n",
              " ('!', '.')]"
            ]
          },
          "metadata": {
            "tags": []
          },
          "execution_count": 49
        }
      ]
    },
    {
      "cell_type": "code",
      "metadata": {
        "colab": {
          "base_uri": "https://localhost:8080/"
        },
        "id": "12zbF7QnSCn2",
        "outputId": "a750c61b-df63-41a4-e9ba-5710975dfcdd"
      },
      "source": [
        "\n",
        "from nltk.stem import WordNetLemmatizer\n",
        "lemmatizer = WordNetLemmatizer()\n",
        "lemma = []\n",
        "for word, tag in position_tag:\n",
        "    lemma.append(lemmatizer.lemmatize(word, pos = 'v'))\n",
        "lemma\n"
      ],
      "execution_count": null,
      "outputs": [
        {
          "output_type": "execute_result",
          "data": {
            "text/plain": [
              "['@DespiteOfficial',\n",
              " 'we',\n",
              " 'have',\n",
              " 'a',\n",
              " 'listen',\n",
              " 'last',\n",
              " 'night',\n",
              " ':)',\n",
              " 'As',\n",
              " 'You',\n",
              " 'Bleed',\n",
              " 'be',\n",
              " 'an',\n",
              " 'amaze',\n",
              " 'track',\n",
              " '.',\n",
              " 'When',\n",
              " 'be',\n",
              " 'you',\n",
              " 'in',\n",
              " 'Scotland',\n",
              " '?',\n",
              " '!']"
            ]
          },
          "metadata": {
            "tags": []
          },
          "execution_count": 50
        }
      ]
    },
    {
      "cell_type": "code",
      "metadata": {
        "colab": {
          "base_uri": "https://localhost:8080/"
        },
        "id": "jIqzuhVVSCqC",
        "outputId": "7cab81c5-1468-4147-d14a-d7cd6ae4a068"
      },
      "source": [
        "\n",
        "nltk.download('stopwords')\n",
        "from nltk.corpus import stopwords\n",
        "stop_words = stopwords.words('english')\n",
        "stop_words\n"
      ],
      "execution_count": null,
      "outputs": [
        {
          "output_type": "stream",
          "text": [
            "[nltk_data] Downloading package stopwords to /root/nltk_data...\n",
            "[nltk_data]   Unzipping corpora/stopwords.zip.\n"
          ],
          "name": "stdout"
        },
        {
          "output_type": "execute_result",
          "data": {
            "text/plain": [
              "['i',\n",
              " 'me',\n",
              " 'my',\n",
              " 'myself',\n",
              " 'we',\n",
              " 'our',\n",
              " 'ours',\n",
              " 'ourselves',\n",
              " 'you',\n",
              " \"you're\",\n",
              " \"you've\",\n",
              " \"you'll\",\n",
              " \"you'd\",\n",
              " 'your',\n",
              " 'yours',\n",
              " 'yourself',\n",
              " 'yourselves',\n",
              " 'he',\n",
              " 'him',\n",
              " 'his',\n",
              " 'himself',\n",
              " 'she',\n",
              " \"she's\",\n",
              " 'her',\n",
              " 'hers',\n",
              " 'herself',\n",
              " 'it',\n",
              " \"it's\",\n",
              " 'its',\n",
              " 'itself',\n",
              " 'they',\n",
              " 'them',\n",
              " 'their',\n",
              " 'theirs',\n",
              " 'themselves',\n",
              " 'what',\n",
              " 'which',\n",
              " 'who',\n",
              " 'whom',\n",
              " 'this',\n",
              " 'that',\n",
              " \"that'll\",\n",
              " 'these',\n",
              " 'those',\n",
              " 'am',\n",
              " 'is',\n",
              " 'are',\n",
              " 'was',\n",
              " 'were',\n",
              " 'be',\n",
              " 'been',\n",
              " 'being',\n",
              " 'have',\n",
              " 'has',\n",
              " 'had',\n",
              " 'having',\n",
              " 'do',\n",
              " 'does',\n",
              " 'did',\n",
              " 'doing',\n",
              " 'a',\n",
              " 'an',\n",
              " 'the',\n",
              " 'and',\n",
              " 'but',\n",
              " 'if',\n",
              " 'or',\n",
              " 'because',\n",
              " 'as',\n",
              " 'until',\n",
              " 'while',\n",
              " 'of',\n",
              " 'at',\n",
              " 'by',\n",
              " 'for',\n",
              " 'with',\n",
              " 'about',\n",
              " 'against',\n",
              " 'between',\n",
              " 'into',\n",
              " 'through',\n",
              " 'during',\n",
              " 'before',\n",
              " 'after',\n",
              " 'above',\n",
              " 'below',\n",
              " 'to',\n",
              " 'from',\n",
              " 'up',\n",
              " 'down',\n",
              " 'in',\n",
              " 'out',\n",
              " 'on',\n",
              " 'off',\n",
              " 'over',\n",
              " 'under',\n",
              " 'again',\n",
              " 'further',\n",
              " 'then',\n",
              " 'once',\n",
              " 'here',\n",
              " 'there',\n",
              " 'when',\n",
              " 'where',\n",
              " 'why',\n",
              " 'how',\n",
              " 'all',\n",
              " 'any',\n",
              " 'both',\n",
              " 'each',\n",
              " 'few',\n",
              " 'more',\n",
              " 'most',\n",
              " 'other',\n",
              " 'some',\n",
              " 'such',\n",
              " 'no',\n",
              " 'nor',\n",
              " 'not',\n",
              " 'only',\n",
              " 'own',\n",
              " 'same',\n",
              " 'so',\n",
              " 'than',\n",
              " 'too',\n",
              " 'very',\n",
              " 's',\n",
              " 't',\n",
              " 'can',\n",
              " 'will',\n",
              " 'just',\n",
              " 'don',\n",
              " \"don't\",\n",
              " 'should',\n",
              " \"should've\",\n",
              " 'now',\n",
              " 'd',\n",
              " 'll',\n",
              " 'm',\n",
              " 'o',\n",
              " 're',\n",
              " 've',\n",
              " 'y',\n",
              " 'ain',\n",
              " 'aren',\n",
              " \"aren't\",\n",
              " 'couldn',\n",
              " \"couldn't\",\n",
              " 'didn',\n",
              " \"didn't\",\n",
              " 'doesn',\n",
              " \"doesn't\",\n",
              " 'hadn',\n",
              " \"hadn't\",\n",
              " 'hasn',\n",
              " \"hasn't\",\n",
              " 'haven',\n",
              " \"haven't\",\n",
              " 'isn',\n",
              " \"isn't\",\n",
              " 'ma',\n",
              " 'mightn',\n",
              " \"mightn't\",\n",
              " 'mustn',\n",
              " \"mustn't\",\n",
              " 'needn',\n",
              " \"needn't\",\n",
              " 'shan',\n",
              " \"shan't\",\n",
              " 'shouldn',\n",
              " \"shouldn't\",\n",
              " 'wasn',\n",
              " \"wasn't\",\n",
              " 'weren',\n",
              " \"weren't\",\n",
              " 'won',\n",
              " \"won't\",\n",
              " 'wouldn',\n",
              " \"wouldn't\"]"
            ]
          },
          "metadata": {
            "tags": []
          },
          "execution_count": 51
        }
      ]
    },
    {
      "cell_type": "code",
      "metadata": {
        "colab": {
          "base_uri": "https://localhost:8080/"
        },
        "id": "yLzXLCLaSCsL",
        "outputId": "8931c73e-d6f6-46e3-f5ed-caf7a75f9f82"
      },
      "source": [
        "\n",
        "without_stop = [i for i in lemma if i not in stop_words]\n",
        "without_stop\n"
      ],
      "execution_count": null,
      "outputs": [
        {
          "output_type": "execute_result",
          "data": {
            "text/plain": [
              "['@DespiteOfficial',\n",
              " 'listen',\n",
              " 'last',\n",
              " 'night',\n",
              " ':)',\n",
              " 'As',\n",
              " 'You',\n",
              " 'Bleed',\n",
              " 'amaze',\n",
              " 'track',\n",
              " '.',\n",
              " 'When',\n",
              " 'Scotland',\n",
              " '?',\n",
              " '!']"
            ]
          },
          "metadata": {
            "tags": []
          },
          "execution_count": 52
        }
      ]
    },
    {
      "cell_type": "code",
      "metadata": {
        "id": "Yj5XZvUKSCuM"
      },
      "source": [
        "\n",
        "def clean_tokens(tokens):\n",
        "    lemmatizer = WordNetLemmatizer()\n",
        "    clean_list = []\n",
        "    for token, tag in pos_tag(tokens):\n",
        "        token = token.lower()\n",
        "        token = re.sub(r'@[a-z0-9_]\\S+', '', token)\n",
        "        token = re.sub(r'#[a-z0-9_]\\S+', '', token)\n",
        "        token = re.sub(r'&[a-z0-9_]\\S+', '', token)\n",
        "        token = re.sub(r'[?!.+,;$£%&\"]+', '', token)\n",
        "        token = re.sub(r'rt[\\s]+', '', token)\n",
        "        token = re.sub(r'\\d+', '', token)\n",
        "        token = re.sub(r'\\$', '', token)\n",
        "        token = re.sub(r'rt+', '', token)\n",
        "        token = re.sub(r'https?:?\\/\\/\\S+', '', token)\n",
        "        if tag.startswith('NN'):\n",
        "            position = 'n'\n",
        "        elif tag.startswith('VB'):\n",
        "            position = 'v'\n",
        "        elif tag.startswith('RB'):\n",
        "            position = 'r'\n",
        "        elif tag.startswith('JJ'):\n",
        "            position = 'a'\n",
        "        else:\n",
        "            position = 'n'\n",
        "\n",
        "        clean_list.append(lemmatizer.lemmatize(token, pos = position))\n",
        "        clean_list = [i for i in clean_list if i not in stop_words and len(i) > 0 and i != ':']\n",
        "\n",
        "    return clean_list\n"
      ],
      "execution_count": null,
      "outputs": []
    },
    {
      "cell_type": "code",
      "metadata": {
        "colab": {
          "base_uri": "https://localhost:8080/"
        },
        "id": "HoSRtoGvSCwE",
        "outputId": "155969f2-5d84-4bb1-eb83-22df30d7c8d6"
      },
      "source": [
        "\n",
        "clean_positive = list(map(clean_tokens, positive_tokens))\n",
        "clean_negative = list(map(clean_tokens, negative_tokens))\n",
        "print(positive_tokens[0])\n",
        "print(clean_positive[0])\n"
      ],
      "execution_count": null,
      "outputs": [
        {
          "output_type": "stream",
          "text": [
            "['#FollowFriday', '@France_Inte', '@PKuchly57', '@Milipol_Paris', 'for', 'being', 'top', 'engaged', 'members', 'in', 'my', 'community', 'this', 'week', ':)']\n",
            "['top', 'engage', 'member', 'community', 'week', ':)']\n"
          ],
          "name": "stdout"
        }
      ]
    },
    {
      "cell_type": "code",
      "metadata": {
        "id": "JT2mfDsLSCyC"
      },
      "source": [
        "\n",
        "def data_prepare(tokens, status):\n",
        "    featureset = [(tweet, status) for tweet in tokens]\n",
        "    return featureset\n",
        "\n",
        "positive_featureset = data_prepare(clean_positive, 'Positive')\n",
        "negative_featureset = data_prepare(clean_negative, 'Negative')\n"
      ],
      "execution_count": null,
      "outputs": []
    },
    {
      "cell_type": "code",
      "metadata": {
        "colab": {
          "base_uri": "https://localhost:8080/"
        },
        "id": "_Zua3oefSaYm",
        "outputId": "2143ad84-4bda-4005-acde-4e9baaff4e06"
      },
      "source": [
        "\n",
        "featureset = positive_featureset + negative_featureset\n",
        "featureset[-5:]\n",
        "\n",
        "features = []\n",
        "labels = []\n",
        "\n",
        "for x in featureset:\n",
        "    features.append(x[0])\n",
        "    labels.append(x[1])\n",
        "\n",
        "print(features[0])\n",
        "print(labels[0])\n",
        "\n",
        "from sklearn.feature_extraction.text import TfidfVectorizer\n",
        "vectorizer = TfidfVectorizer(ngram_range = (1, 2), sublinear_tf = True, max_features = 3000, preprocessor = ' '.join)\n",
        "vectorized_features = vectorizer.fit_transform(features)\n"
      ],
      "execution_count": null,
      "outputs": [
        {
          "output_type": "stream",
          "text": [
            "['top', 'engage', 'member', 'community', 'week', ':)']\n",
            "Positive\n"
          ],
          "name": "stdout"
        }
      ]
    },
    {
      "cell_type": "code",
      "metadata": {
        "colab": {
          "base_uri": "https://localhost:8080/"
        },
        "id": "JqJoRh4YSahS",
        "outputId": "13715815-637f-4997-d966-c16471287491"
      },
      "source": [
        "\n",
        "vocabulary = vectorizer.get_feature_names()\n",
        "print(vocabulary[:15])\n",
        "print(len(vocabulary))\n"
      ],
      "execution_count": null,
      "outputs": [
        {
          "output_type": "stream",
          "text": [
            "['ab', 'able', 'able see', 'abroad', 'absolute', 'absolutely', 'abt', 'acc', 'access', 'account', 'across', 'act', 'act like', 'active', 'actually']\n",
            "3000\n"
          ],
          "name": "stdout"
        }
      ]
    },
    {
      "cell_type": "code",
      "metadata": {
        "id": "WkTg6LCTSaja"
      },
      "source": [
        "\n",
        "from sklearn.model_selection import train_test_split\n",
        "\n",
        "X_train, X_test, y_train, y_test = train_test_split(vectorized_features, labels, test_size = 0.15, shuffle = True)\n"
      ],
      "execution_count": null,
      "outputs": []
    },
    {
      "cell_type": "code",
      "metadata": {
        "id": "_f4mq_21Salj"
      },
      "source": [
        "\n",
        "from sklearn.ensemble import RandomForestClassifier\n",
        "\n",
        "text_classifier = RandomForestClassifier(n_estimators = 200)\n",
        "classifier = text_classifier.fit(X_train, y_train)\n"
      ],
      "execution_count": null,
      "outputs": []
    },
    {
      "cell_type": "code",
      "metadata": {
        "colab": {
          "base_uri": "https://localhost:8080/"
        },
        "id": "CjlPHIeISans",
        "outputId": "ed83e31b-bfb9-42f5-b5f5-099987e8b8db"
      },
      "source": [
        "\n",
        "predictions = classifier.predict(X_test)\n",
        "\n",
        "from sklearn.metrics import classification_report, accuracy_score\n",
        "\n",
        "print(classification_report(y_test, predictions))\n",
        "print(accuracy_score(y_test, predictions))\n"
      ],
      "execution_count": null,
      "outputs": [
        {
          "output_type": "stream",
          "text": [
            "              precision    recall  f1-score   support\n",
            "\n",
            "    Negative       0.73      0.77      0.75       782\n",
            "    Positive       0.74      0.69      0.71       718\n",
            "\n",
            "    accuracy                           0.73      1500\n",
            "   macro avg       0.73      0.73      0.73      1500\n",
            "weighted avg       0.73      0.73      0.73      1500\n",
            "\n",
            "0.734\n"
          ],
          "name": "stdout"
        }
      ]
    },
    {
      "cell_type": "code",
      "metadata": {
        "colab": {
          "base_uri": "https://localhost:8080/",
          "height": 420
        },
        "id": "OnFtk2MCSaq9",
        "outputId": "eec1a504-27f5-4170-9d14-110c03fcfd28"
      },
      "source": [
        "\n",
        "test_tweets = twitter_samples.tokenized('tweets.20150430-223406.json')\n",
        "clean_test_tweets = list(map(clean_tokens, test_tweets))\n",
        "\n",
        "print(test_tweets[0])\n",
        "print(clean_test_tweets[0])\n",
        "\n",
        "pd.set_option('max_colwidth', 1000)\n",
        "\n",
        "df = pd.DataFrame()\n",
        "df['Tweets'] = clean_test_tweets\n",
        "df['Sentiment'] = classifier.predict(vectorizer.transform(list(clean_test_tweets)))\n",
        "df.head(10)\n"
      ],
      "execution_count": null,
      "outputs": [
        {
          "output_type": "stream",
          "text": [
            "['RT', '@KirkKus', ':', 'Indirect', 'cost', 'of', 'the', 'UK', 'being', 'in', 'the', 'EU', 'is', 'estimated', 'to', 'be', 'costing', 'Britain', '£', '170', 'billion', 'per', 'year', '!', '#BetterOffOut', '#UKIP']\n",
            "['indirect', 'cost', 'uk', 'eu', 'estimate', 'cost', 'britain', 'billion', 'per', 'year']\n"
          ],
          "name": "stdout"
        },
        {
          "output_type": "execute_result",
          "data": {
            "text/html": [
              "<div>\n",
              "<style scoped>\n",
              "    .dataframe tbody tr th:only-of-type {\n",
              "        vertical-align: middle;\n",
              "    }\n",
              "\n",
              "    .dataframe tbody tr th {\n",
              "        vertical-align: top;\n",
              "    }\n",
              "\n",
              "    .dataframe thead th {\n",
              "        text-align: right;\n",
              "    }\n",
              "</style>\n",
              "<table border=\"1\" class=\"dataframe\">\n",
              "  <thead>\n",
              "    <tr style=\"text-align: right;\">\n",
              "      <th></th>\n",
              "      <th>Tweets</th>\n",
              "      <th>Sentiment</th>\n",
              "    </tr>\n",
              "  </thead>\n",
              "  <tbody>\n",
              "    <tr>\n",
              "      <th>0</th>\n",
              "      <td>[indirect, cost, uk, eu, estimate, cost, britain, billion, per, year]</td>\n",
              "      <td>Positive</td>\n",
              "    </tr>\n",
              "    <tr>\n",
              "      <th>1</th>\n",
              "      <td>[video, sturgeon, post-election, deal]</td>\n",
              "      <td>Negative</td>\n",
              "    </tr>\n",
              "    <tr>\n",
              "      <th>2</th>\n",
              "      <td>[economy, grow, time, faster, day, david, cameron, become, prime, minister, today]</td>\n",
              "      <td>Negative</td>\n",
              "    </tr>\n",
              "    <tr>\n",
              "      <th>3</th>\n",
              "      <td>[ukip, east, lothian, candidate, look, still, msn, addy]</td>\n",
              "      <td>Negative</td>\n",
              "    </tr>\n",
              "    <tr>\n",
              "      <th>4</th>\n",
              "      <td>[ukip's, housing, spokesman, rake, k, housing, benefit, migrant]</td>\n",
              "      <td>Negative</td>\n",
              "    </tr>\n",
              "    <tr>\n",
              "      <th>5</th>\n",
              "      <td>[make, sure, tune, tonight, bbc]</td>\n",
              "      <td>Positive</td>\n",
              "    </tr>\n",
              "    <tr>\n",
              "      <th>6</th>\n",
              "      <td>[ed, milliband, embarrassment, would, want, represent, uk, vote]</td>\n",
              "      <td>Negative</td>\n",
              "    </tr>\n",
              "    <tr>\n",
              "      <th>7</th>\n",
              "      <td>[ft, back, tory, unrelated, note, here's, photo, ft, leader, writer, jonathan, ford, (, next, boris, )]</td>\n",
              "      <td>Positive</td>\n",
              "    </tr>\n",
              "    <tr>\n",
              "      <th>8</th>\n",
              "      <td>[“, ed, miliband, prove, tonight, he's, job, ”, tbf, spend, year, salivate, …]</td>\n",
              "      <td>Positive</td>\n",
              "    </tr>\n",
              "    <tr>\n",
              "      <th>9</th>\n",
              "      <td>[lolz, trickle, wealth, never, trickle, past, wallet, greed, always, win, greedy]</td>\n",
              "      <td>Negative</td>\n",
              "    </tr>\n",
              "  </tbody>\n",
              "</table>\n",
              "</div>"
            ],
            "text/plain": [
              "                                                                                                    Tweets Sentiment\n",
              "0                                    [indirect, cost, uk, eu, estimate, cost, britain, billion, per, year]  Positive\n",
              "1                                                                   [video, sturgeon, post-election, deal]  Negative\n",
              "2                       [economy, grow, time, faster, day, david, cameron, become, prime, minister, today]  Negative\n",
              "3                                                 [ukip, east, lothian, candidate, look, still, msn, addy]  Negative\n",
              "4                                         [ukip's, housing, spokesman, rake, k, housing, benefit, migrant]  Negative\n",
              "5                                                                         [make, sure, tune, tonight, bbc]  Positive\n",
              "6                                         [ed, milliband, embarrassment, would, want, represent, uk, vote]  Negative\n",
              "7  [ft, back, tory, unrelated, note, here's, photo, ft, leader, writer, jonathan, ford, (, next, boris, )]  Positive\n",
              "8                           [“, ed, miliband, prove, tonight, he's, job, ”, tbf, spend, year, salivate, …]  Positive\n",
              "9                        [lolz, trickle, wealth, never, trickle, past, wallet, greed, always, win, greedy]  Negative"
            ]
          },
          "metadata": {
            "tags": []
          },
          "execution_count": 61
        }
      ]
    },
    {
      "cell_type": "code",
      "metadata": {
        "id": "cgrtggUoSC1Z"
      },
      "source": [
        ""
      ],
      "execution_count": null,
      "outputs": []
    },
    {
      "cell_type": "markdown",
      "metadata": {
        "id": "w9n9AHFmGx9k"
      },
      "source": [
        "**Bag of words model**"
      ]
    }
  ]
}